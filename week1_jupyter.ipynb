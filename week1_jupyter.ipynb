{
 "cells": [
  {
   "cell_type": "code",
   "execution_count": null,
   "metadata": {},
   "outputs": [
    {
     "name": "stdout",
     "output_type": "stream",
     "text": [
      "Michael's awesome, as are you\n"
     ]
    }
   ],
   "source": [
    "print(\"Michael's not awesome, as are you\")"
   ]
  },
  {
   "cell_type": "markdown",
   "metadata": {},
   "source": [
    "# WTF is python?\n",
    "the best way to get started is just by doing! \n",
    "\n",
    "Notice how this text is slightly discoloured? They're called comments\n",
    "# Use the # at the beginning to tell python to ignore this text\n",
    "Comments are for humans only\n",
    "\n",
    "# Let's start from the top!! \n",
    "\n",
    "Let's print something! "
   ]
  },
  {
   "cell_type": "code",
   "execution_count": 1,
   "metadata": {},
   "outputs": [
    {
     "name": "stdout",
     "output_type": "stream",
     "text": [
      "My first print @ UoB... Hello Mars!\n"
     ]
    }
   ],
   "source": [
    "print(\"My first print @ UoB... Hello Mars!\")\n",
    "# <---- to the left is a play button - click it!"
   ]
  },
  {
   "cell_type": "code",
   "execution_count": null,
   "metadata": {},
   "outputs": [],
   "source": [
    "# Nice job! \n",
    "\n",
    "# Now, you try, print something out... print out your name.... \n",
    "\n",
    "# Type your code below and then press the play button:\n",
    "\n",
    "\n",
    "# print your name here (don't forget the quotation marks)"
   ]
  },
  {
   "cell_type": "markdown",
   "metadata": {},
   "source": [
    "# Now, let's try something a little more complicated\n",
    "Let's try to print out a sentence with a variable\n",
    "\n",
    "# variables store information\n",
    "variables can store numbers, words, sentences, and more"
   ]
  },
  {
   "cell_type": "code",
   "execution_count": null,
   "metadata": {},
   "outputs": [],
   "source": [
    "my_first_var = \"Hello World!\"\n",
    "# this is a string variable\n",
    "\n",
    "my_second_var = 1\n",
    "# this is an integer variable, integer is a whole number\n",
    "\n",
    "my_third_var = 1.0\n",
    "# this is a float variable, float is a number with a decimal point\n",
    "\n",
    "my_fourth_var = True\n",
    "# this is a boolean variable (True or False)\n",
    "\n",
    "my_fifth_var = [\"Banana\", \"Apple\"]\n",
    "# this is a list variable"
   ]
  },
  {
   "cell_type": "markdown",
   "metadata": {},
   "source": [
    "Create a variable called my_name, and store your name in it"
   ]
  },
  {
   "cell_type": "code",
   "execution_count": null,
   "metadata": {},
   "outputs": [],
   "source": [
    "# Type your code below:\n",
    "\n",
    "my_name = \"\" # store your name in this variable\n",
    "\n",
    "# eg. my_name = \"Michael\"\n",
    "# eg. my_name_cn = \"大傻逼\""
   ]
  },
  {
   "cell_type": "code",
   "execution_count": null,
   "metadata": {},
   "outputs": [],
   "source": [
    "# Now, let's print out a sentence with your name in it\n",
    "\n",
    "print(\"My name is \" + my_name + \"!\")\n",
    "# notice how we use the + sign to add the variable to the sentence"
   ]
  },
  {
   "cell_type": "markdown",
   "metadata": {},
   "source": [
    "# ^^ this is an older way of doing it, there's an easier way to do it now, using f-strings\n",
    "f-strings are a newer way of formatting strings, and it's much easier to read\n",
    "\n",
    "f-strings are also faster than the older way of doing it\n",
    "\n",
    "you might have seen .format before, but f-strings are much easier to use\n",
    "\n",
    "remember f for format\n",
    "\n",
    "(you'll need to make sure you have python 3.6+)"
   ]
  },
  {
   "cell_type": "markdown",
   "metadata": {},
   "source": [
    "# How to use f-strings:?\n",
    "\n",
    "type an f before the \"\" then inside the \"\" you can use {} brackets around variables\n",
    "\n",
    "this converts the variable into a string and includes it in the original statement"
   ]
  },
  {
   "cell_type": "code",
   "execution_count": null,
   "metadata": {},
   "outputs": [],
   "source": [
    "\n",
    "name = \"Michael\"\n",
    "\n",
    "print(f\"Hi everybody! My name is {name}.\")\n",
    "\n",
    "# print(f\"My name is {my_name}!\")\n",
    "\n",
    "# notice how we use the {} to add the variable to the sentence\n",
    "\n",
    "# Now, you try, print out a sentence with your name in it, using f-strings\n",
    "\n",
    "# Enter your code below:\n",
    "print()\n",
    "\n",
    "# print out a sentence with your name in it, using f-strings"
   ]
  },
  {
   "cell_type": "markdown",
   "metadata": {},
   "source": [
    "# let's move onto using input\n",
    "\n",
    "instead of us coders typing the name we can ask the user for information\n",
    "\n",
    "\\\n",
    "psst, be careful! using input() will always store the information as a string\n"
   ]
  },
  {
   "cell_type": "code",
   "execution_count": null,
   "metadata": {},
   "outputs": [],
   "source": [
    "# user_name = input(\"What's your name?\")\n",
    "# this will ask the user their name and store it to the variable\n",
    "\n",
    "# print(user_name)\n",
    "\n",
    "# Now, you try. Ask the user their name and store it to a variable\n",
    "\n",
    "# then, print out a welcome message that includes your user's name (using f-strings)\n",
    "\n",
    "# Code below:\n",
    "\n"
   ]
  },
  {
   "cell_type": "code",
   "execution_count": null,
   "metadata": {},
   "outputs": [],
   "source": [
    "\n",
    "# Great, so we should have something similar to...\n",
    "\n",
    "# user_name = input(\"Please tell me your name: \")\n",
    "# print(f\"Welcome to UoB, {user_name}\")\n"
   ]
  },
  {
   "cell_type": "markdown",
   "metadata": {},
   "source": [
    "\n",
    "# Ask the user when they will graduate\n",
    "\n",
    "we're going to increase the difficulty a little here"
   ]
  },
  {
   "cell_type": "code",
   "execution_count": null,
   "metadata": {},
   "outputs": [],
   "source": [
    "\n",
    "# Ask the user when they will graduate\n",
    "\n",
    "user_grad_year = # enter your code here\n",
    "\n",
    "# Now change your welcome message to include their name and graduation year\n",
    "\n",
    "# Attempt to give the user a welcome message, like as seen below:\n",
    "\n",
    "# \"Welcome to the UoB, Michael!! Welcome to the class of 20\"\n",
    "\n",
    "# Code here:\n",
    "print() # remember f-strings :-)"
   ]
  },
  {
   "cell_type": "markdown",
   "metadata": {},
   "source": [
    "# Let's extend the welcome message further\n",
    "\n",
    "let's say something like \"you will have 3 years of fun and hard studies here\"\n",
    "\n",
    "We know which year they graduate, and we know which year it is now, so we can calculate how many years they have left"
   ]
  },
  {
   "cell_type": "code",
   "execution_count": null,
   "metadata": {},
   "outputs": [],
   "source": [
    "current_year = 2023 # this is the current year, we can change this to any year we want\n",
    "\n",
    "# let's make a calculation to find out how many years they have left\n",
    "\n",
    "# we need to be very careful here, because when you use input() it will always save it as a string!"
   ]
  },
  {
   "cell_type": "markdown",
   "metadata": {},
   "source": [
    "# does this make sense? \"2028\" - 2023 = ???\n",
    "    # no, right, so we must make the answer of grad year to a number (a float or integer)"
   ]
  },
  {
   "cell_type": "code",
   "execution_count": null,
   "metadata": {},
   "outputs": [],
   "source": [
    "# let's try to convert the user_grad_year to an integer\n",
    "\n",
    "# we use int()\n",
    "\n",
    "# put int() around the string variable of your grad_year variable\n",
    "\n",
    "# eg. age = \"30\"\n",
    "# age_int = int(age)\n",
    "\n",
    "# Now, age = 30 (a number)\n"
   ]
  },
  {
   "cell_type": "markdown",
   "metadata": {},
   "source": [
    "    if you ever want to do any kind of maths on variables, make sure it's the right type of variable!\n",
    "    \n",
    "    otherwise, you'll get an error or an unexpected outcome:\n",
    "    \n",
    "    \"20\" + \"28\" = 2028\n",
    "    20 + \"28\" = error\n",
    "    20 + 28 = 48"
   ]
  },
  {
   "cell_type": "code",
   "execution_count": null,
   "metadata": {},
   "outputs": [],
   "source": [
    "years_left = # make a calculation here\n",
    "\n",
    "# do you need to consider using int()?"
   ]
  },
  {
   "cell_type": "markdown",
   "metadata": {},
   "source": [
    "# Now, let's print out a welcome message \n",
    "\n",
    "include their name, graduation year, and how many years they have left\n",
    "\n",
    "# something like this:\n",
    "\"Welcome to the UoB, user_name!! Welcome to the class of user_grad_year. You will have the best years_left year(s) of your life here!!\"\n"
   ]
  },
  {
   "cell_type": "code",
   "execution_count": null,
   "metadata": {},
   "outputs": [],
   "source": [
    "# Type your code below:\n",
    "\n",
    "\n",
    "# remember, it's print(f\"example text bla bla bla, {variable}\")"
   ]
  },
  {
   "cell_type": "markdown",
   "metadata": {},
   "source": [
    "# Let's move onto functions\n",
    "\n",
    "Functions are a way to group code together, so we can use it again and again\n",
    "\n",
    "It's like a  recipe, we can use it again and again to make the same thing\n",
    "\n",
    "# Let's make a function\n",
    "our function will print out a welcome message to our user\n",
    "\n",
    "functions start with def, and then the name of the function, and then (), and then :"
   ]
  },
  {
   "cell_type": "code",
   "execution_count": null,
   "metadata": {},
   "outputs": [],
   "source": [
    "def my_first_function():\n",
    "    print(\"I wrote my first function!\")\n",
    "\n",
    "# to use it or to 'call it' we need to write the function name with brackets\n",
    "\n",
    "my_first_function()\n",
    "\n",
    "#  by typing it out, we are calling it"
   ]
  },
  {
   "cell_type": "markdown",
   "metadata": {},
   "source": [
    "why not write another function for fun"
   ]
  },
  {
   "cell_type": "code",
   "execution_count": null,
   "metadata": {},
   "outputs": [],
   "source": [
    "def square_number(number):\n",
    "    # sum = number * number\n",
    "    sum = number ** 2 # ** is the power of operator\n",
    "    print (f\"The square of the number is: {sum}\")\n",
    "    return sum"
   ]
  },
  {
   "cell_type": "code",
   "execution_count": null,
   "metadata": {},
   "outputs": [],
   "source": [
    "def welcome_message():\n",
    "    user_name = input(\"Please tell me your name: \")\n",
    "\n",
    "    current_year = 2023\n",
    "\n",
    "    user_grad_year = input(\"When will you graduate?： \")\n",
    "\n",
    "    years_left = int(user_grad_year) - current_year\n",
    "    \n",
    "    print(f\"Welcome to the UoB, {user_name}!! Welcome to the class of {user_grad_year}. You will have the best {years_left} year(s) of your life here!!\")\n",
    "\n",
    "# welcome_message()\n",
    "\n",
    "# when you're ready, uncomment the line above and run the code"
   ]
  },
  {
   "cell_type": "markdown",
   "metadata": {},
   "source": [
    "by calling it we are telling python to run that large chunk of code above"
   ]
  },
  {
   "cell_type": "markdown",
   "metadata": {},
   "source": [
    "Now, you try, make a function that asks the user for their name, and then prints out a welcome message."
   ]
  },
  {
   "cell_type": "code",
   "execution_count": null,
   "metadata": {},
   "outputs": [],
   "source": [
    "# your code here:\n",
    "\n",
    "# remember to create a function you write def function_name():\n",
    "\n",
    "# and then you write your code inside the function\n",
    "\n",
    "# and then you call the function by writing the function name with brackets"
   ]
  },
  {
   "cell_type": "markdown",
   "metadata": {},
   "source": [
    "# Parameters can be included in fuction definitions and calls"
   ]
  },
  {
   "cell_type": "code",
   "execution_count": null,
   "metadata": {},
   "outputs": [],
   "source": [
    "def say_hello_with_params(name):\n",
    "    print(f\"Hello {name}!\")\n",
    "\n",
    "#  we can pass in a variable to the function\n",
    "\n",
    "#  this variable is called a parameter\n",
    "\n",
    "#  we can use this parameter inside the function\n",
    "\n",
    "#  we can pass in any variable we want\n",
    "\n",
    "#  we can pass in a string, an integer, a float, a boolean, a list, etc.\n",
    "\n",
    "say_hello_with_params(\"Michael\")\n",
    "\n",
    "#  I've called the function with the name \"Michael\""
   ]
  },
  {
   "cell_type": "markdown",
   "metadata": {},
   "source": [
    "you can use more than one parameter in a function"
   ]
  },
  {
   "cell_type": "code",
   "execution_count": null,
   "metadata": {},
   "outputs": [],
   "source": [
    "def two_params_message(name, age):\n",
    "    print(f\"Hello {name}, you are {age} years old!\")\n",
    "\n",
    "\n",
    "two_params_message(\"Michael\", 30)\n",
    "\n",
    "# when calling the function we can pass it what are called 'arguments'\n",
    "# arguments are the values that we pass into the function\n",
    "\n",
    "# parameters give you the option to pass in arguments"
   ]
  },
  {
   "cell_type": "markdown",
   "metadata": {},
   "source": [
    "although I've named them inside the function definition, I can name them anything I want when I call the function\n",
    "\n",
    "python will always read them from left to right, so make sure you're calling them in the right order"
   ]
  },
  {
   "cell_type": "code",
   "execution_count": null,
   "metadata": {},
   "outputs": [],
   "source": [
    "# for example:\n",
    "# instead of using name and age as the parameter, we can use anything we want\n",
    "\n",
    "def three_params_message (potato, cake, panda):\n",
    "    print(f\"Hello {potato}, you are {cake} years old! Welcome to {panda}!\")\n",
    "\n",
    "three_params_message(\"Michael\", 30, \"UoB\")"
   ]
  },
  {
   "cell_type": "markdown",
   "metadata": {},
   "source": [
    "instead of using a lot of code every time, we can call the function with different parameters"
   ]
  },
  {
   "cell_type": "code",
   "execution_count": null,
   "metadata": {},
   "outputs": [],
   "source": [
    "def welcome_message(user_name, user_grad_year):\n",
    "    current_year = 2023\n",
    "    years_left = int(user_grad_year) - current_year\n",
    "    print(f\"Welcome to the UoB, {user_name}!! Welcome to the class of {user_grad_year}. You will have the best {years_left} year(s) of your life here!!\")\n",
    "\n",
    "# Now, when you call it you need to give it the parameters\n",
    "\n",
    "welcome_message(\"Michael\", \"2028\")\n",
    "\n",
    "# try to call the function with different parameters\n",
    "\n",
    "# your code here:\n"
   ]
  },
  {
   "cell_type": "markdown",
   "metadata": {},
   "source": [
    "# you can use functions' return values in other functions"
   ]
  },
  {
   "cell_type": "code",
   "execution_count": null,
   "metadata": {},
   "outputs": [],
   "source": [
    "def rectangle_area(length, width):\n",
    "    area = length * width\n",
    "    # print(f\"The area of the rectangle is {area}.\")\n",
    "    return area # this value can now be used in other parts of the code\n",
    "\n",
    "#  we can return a value from a function\n",
    "\n",
    "# when we print it's just printing to the console, for us humans to see\n",
    "\n",
    "# but if we want to use the value in our code, we need to return it\n",
    "\n",
    "# returning is like giving the value back to the code\n",
    "\n",
    "# we can combine returns from other functions in our code\n",
    "\n",
    "# generally, one function should do one thing\n",
    "\n",
    "# for example:\n",
    "\n",
    "\n",
    "# from above, we have a function to calculate the area of a rectangle. let's make another to work out the area of a circle\n",
    "\n",
    "def circle_area(radius):\n",
    "    pi = 3.14\n",
    "    area = pi * radius ** 2\n",
    "    # print(f\"The area of the circle is {area}.\")\n",
    "    return area\n",
    "\n",
    "# now, let's make a function that uses the area of a rectangle and the area of a circle to work out the total area\n",
    "\n",
    "def total_area(length, width, radius):\n",
    "    total_area = rectangle_area(length, width) + circle_area(radius)\n",
    "    # notice how we've called both functions and used their return values\n",
    "    print (f\"The area of the rectangle is {rectangle_area(length, width)} and the area of the circle is {circle_area(radius)}.\")\n",
    "    # if in doubt, print it out to see what's going on\n",
    "    print(f\"The total area is {total_area}.\")\n",
    "    return total_area\n",
    "\n",
    "# let's call the function\n",
    "\n",
    "total_area(10, 20, 5)\n",
    "\n",
    "#  here, we're making a function that gives you a number squared\n",
    "def number_sq(number):\n",
    "    sum = number ** 2\n",
    "    print(f\"The square root of the number is: {sum}\")\n",
    "    return sum\n",
    "\n",
    "# let's make a salary calculator\n",
    "\n",
    "def yearly_salary(hourly_rate, hours_worked_per_week):\n",
    "    weekly_salary = hourly_rate * hours_worked_per_week\n",
    "    yearly_salary = weekly_salary * 52\n",
    "    # print(f\"Your yearly salary is {yearly_salary}.\")\n",
    "    return yearly_salary\n",
    "\n",
    "# if we want to find the salary after however many years, we can use the yearly_salary function\n",
    "\n",
    "# we can use the return value from the yearly_salary function\n",
    "\n",
    "def salary_after_x_years(hourly_rate, hours_worked_per_week, years):\n",
    "    yearly_sum = yearly_salary(hourly_rate, hours_worked_per_week)\n",
    "    # we've called the yearly_salary function and stored the return value in yearly_sum\n",
    "\n",
    "    salary_after_x_years = yearly_sum * years\n",
    "\n",
    "    print(f\"Your salary after {years} year(s) is {salary_after_x_years}.\")\n",
    "    # printed it here just for humans and potential debugging\n",
    "    return salary_after_x_years # don't forget to return it\n",
    "\n",
    "salary_after_x_years(10, 40, 10)"
   ]
  },
  {
   "cell_type": "markdown",
   "metadata": {},
   "source": [
    "# conditionals\n",
    "conditionals are a way to check if something is true or false\n",
    "\n",
    "if the condition is true, then the code inside the if statement will run, if not something else or nothing will happen"
   ]
  },
  {
   "cell_type": "code",
   "execution_count": null,
   "metadata": {},
   "outputs": [],
   "source": [
    "hungry = True\n",
    "\n",
    "def eat():\n",
    "    print(\"I love to eat!\")\n",
    "    print(\"I'm now full!\")\n",
    "\n",
    "def sleep():\n",
    "    print(\"Time for bed!\")\n",
    "    print(\"I love to sleep!\")\n",
    "\n",
    "if (hungry):\n",
    "    eat()\n",
    "    hungry = False\n",
    "else:\n",
    "    sleep()\n",
    "\n",
    "# try changing the hungry variable to True or False and running the code"
   ]
  },
  {
   "cell_type": "markdown",
   "metadata": {},
   "source": [
    "# if true:\n",
    "    # do something\n",
    "# else:\n",
    "    # do something else"
   ]
  },
  {
   "cell_type": "markdown",
   "metadata": {},
   "source": [
    "# have more than one condition? use elif\n",
    "\n",
    "# if true:\n",
    "    # do something\n",
    "# elif true:\n",
    "    # do something else\n",
    "# elif true:\n",
    "    # do something else\n",
    "# else:\n",
    "    # do something that happens if none of the above are true"
   ]
  },
  {
   "cell_type": "code",
   "execution_count": null,
   "metadata": {},
   "outputs": [],
   "source": [
    "# let's make a security system for a bar in birmingham\n",
    "\n",
    "# we need to check the user's age\n",
    "\n",
    "# if they are over 18, they can enter\n",
    "\n",
    "# if they are under 18, they cannot enter\n",
    "\n",
    "# if they are over 18, but they are drunk, they cannot enter\n",
    "\n",
    "# if they're name is \"Michael\" they cannot enter (sorry)\n",
    "\n",
    "# if they are the owner of the bar, they can enter\n",
    "\n",
    "# if very rich they can enter at any age, any condition\n",
    "\n",
    "def security_system(name, age, drunk, rich, owner):\n",
    "    if (name.lower() == \"michael\"):\n",
    "        print(\"You cannot enter, Michael. You're banned!\")\n",
    "    elif (owner):\n",
    "        print(\"Welcome back, Boss.\")\n",
    "    elif (age < 18):\n",
    "        print(\"You cannot enter. Sorry, you're too young.\")\n",
    "    elif (age >= 18 and drunk):\n",
    "        print(\"You cannot enter. Sorry, you're too drunk.\")\n",
    "    elif (rich):\n",
    "        print(\"Please come this way, we'll send your champagne to your table.\")\n",
    "    else:\n",
    "        print(\"Welcome, you are allowed to enter.\")\n",
    "\n",
    "security_system(\"JAMES\", 15, True, False, True)\n",
    "\n",
    "# try changing the parameters and running the code\n",
    "\n",
    "# notice how the order of the if statements matter\n",
    "\n",
    "# you can change the order of the if statements and see what happens"
   ]
  },
  {
   "cell_type": "markdown",
   "metadata": {},
   "source": [
    "# if you're here - nice work\n",
    "    # come back next week for more fun with python"
   ]
  }
 ],
 "metadata": {
  "kernelspec": {
   "display_name": "Python 3",
   "language": "python",
   "name": "python3"
  },
  "language_info": {
   "codemirror_mode": {
    "name": "ipython",
    "version": 3
   },
   "file_extension": ".py",
   "mimetype": "text/x-python",
   "name": "python",
   "nbconvert_exporter": "python",
   "pygments_lexer": "ipython3",
   "version": "3.11.5"
  }
 },
 "nbformat": 4,
 "nbformat_minor": 2
}
